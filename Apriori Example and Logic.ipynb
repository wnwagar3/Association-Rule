{
 "cells": [
  {
   "cell_type": "markdown",
   "id": "ea5cbeca",
   "metadata": {},
   "source": [
    "### Apriori Algorithm Example and Logic"
   ]
  },
  {
   "cell_type": "markdown",
   "id": "abb8bcfd",
   "metadata": {},
   "source": [
    "The Apriori algorithm can be broken down into a basic If ----> Then concept. IF a customer purchases item A THEN what is the liklihood they also purchase item B? The 'THEN' condition is broken down as a number as in, IF customer purchases bread THEN 60% chance they buy jam/jelly. Thats the jist of what we are trying to accomplish. The \"IF\" is referred to as the \"antecedent(s)\" and the \"THEN\", \"Consequent(s)\".\n",
    "\n",
    "**Imporant to remember we are not looking for a causality, but rather a pattern of co-occurence**"
   ]
  },
  {
   "cell_type": "markdown",
   "id": "2179c037",
   "metadata": {},
   "source": [
    "There are 3 matrices that help to measure the association between antecedent(s) and consequent(s):\n",
    "- Support\n",
    "- Condifence\n",
    "- Lift\n",
    "\n",
    "**Support** is the frequency of item 1 or the combination of item1 and item2 : Its basically the frequency of the items which we have bought and what are the combination(s) of the frequency of the item we have bought.\n",
    "\n",
    "**Confidence** tells us how often the items 1 & 2 occur together given the number of times item 1 occurs.\n",
    "\n",
    "**Lift** is essentially the strength of any rule"
   ]
  },
  {
   "cell_type": "code",
   "execution_count": 2,
   "id": "a3a6de27",
   "metadata": {},
   "outputs": [],
   "source": [
    "import pandas as pd"
   ]
  },
  {
   "cell_type": "code",
   "execution_count": 3,
   "id": "d875b9da",
   "metadata": {},
   "outputs": [
    {
     "data": {
      "text/html": [
       "<div>\n",
       "<style scoped>\n",
       "    .dataframe tbody tr th:only-of-type {\n",
       "        vertical-align: middle;\n",
       "    }\n",
       "\n",
       "    .dataframe tbody tr th {\n",
       "        vertical-align: top;\n",
       "    }\n",
       "\n",
       "    .dataframe thead th {\n",
       "        text-align: right;\n",
       "    }\n",
       "</style>\n",
       "<table border=\"1\" class=\"dataframe\">\n",
       "  <thead>\n",
       "    <tr style=\"text-align: right;\">\n",
       "      <th></th>\n",
       "      <th>0</th>\n",
       "      <th>1</th>\n",
       "      <th>2</th>\n",
       "      <th>3</th>\n",
       "    </tr>\n",
       "  </thead>\n",
       "  <tbody>\n",
       "    <tr>\n",
       "      <th>0</th>\n",
       "      <td>T1</td>\n",
       "      <td>A</td>\n",
       "      <td>B</td>\n",
       "      <td>C</td>\n",
       "    </tr>\n",
       "    <tr>\n",
       "      <th>1</th>\n",
       "      <td>T2</td>\n",
       "      <td>A</td>\n",
       "      <td>C</td>\n",
       "      <td>D</td>\n",
       "    </tr>\n",
       "    <tr>\n",
       "      <th>2</th>\n",
       "      <td>T3</td>\n",
       "      <td>B</td>\n",
       "      <td>C</td>\n",
       "      <td>D</td>\n",
       "    </tr>\n",
       "    <tr>\n",
       "      <th>3</th>\n",
       "      <td>T4</td>\n",
       "      <td>A</td>\n",
       "      <td>D</td>\n",
       "      <td>E</td>\n",
       "    </tr>\n",
       "    <tr>\n",
       "      <th>4</th>\n",
       "      <td>T5</td>\n",
       "      <td>B</td>\n",
       "      <td>C</td>\n",
       "      <td>E</td>\n",
       "    </tr>\n",
       "  </tbody>\n",
       "</table>\n",
       "</div>"
      ],
      "text/plain": [
       "    0  1  2  3\n",
       "0  T1  A  B  C\n",
       "1  T2  A  C  D\n",
       "2  T3  B  C  D\n",
       "3  T4  A  D  E\n",
       "4  T5  B  C  E"
      ]
     },
     "execution_count": 3,
     "metadata": {},
     "output_type": "execute_result"
    }
   ],
   "source": [
    "data = [['T1', 'A', 'B','C'], ['T2', 'A', 'C', 'D'], ['T3', 'B', 'C', 'D'], ['T4', 'A', 'D', 'E'], ['T5', 'B', 'C', 'E']]\n",
    "example_data = pd.DataFrame(data)\n",
    "example_data"
   ]
  },
  {
   "cell_type": "markdown",
   "id": "d77829f5",
   "metadata": {},
   "source": [
    "## Theortical Rules"
   ]
  },
  {
   "cell_type": "code",
   "execution_count": 4,
   "id": "967315a2",
   "metadata": {},
   "outputs": [
    {
     "data": {
      "text/html": [
       "<div>\n",
       "<style scoped>\n",
       "    .dataframe tbody tr th:only-of-type {\n",
       "        vertical-align: middle;\n",
       "    }\n",
       "\n",
       "    .dataframe tbody tr th {\n",
       "        vertical-align: top;\n",
       "    }\n",
       "\n",
       "    .dataframe thead th {\n",
       "        text-align: right;\n",
       "    }\n",
       "</style>\n",
       "<table border=\"1\" class=\"dataframe\">\n",
       "  <thead>\n",
       "    <tr style=\"text-align: right;\">\n",
       "      <th></th>\n",
       "      <th>Values</th>\n",
       "      <th>Frequency/Support</th>\n",
       "    </tr>\n",
       "  </thead>\n",
       "  <tbody>\n",
       "    <tr>\n",
       "      <th>0</th>\n",
       "      <td>A</td>\n",
       "      <td>3</td>\n",
       "    </tr>\n",
       "    <tr>\n",
       "      <th>1</th>\n",
       "      <td>B</td>\n",
       "      <td>3</td>\n",
       "    </tr>\n",
       "    <tr>\n",
       "      <th>2</th>\n",
       "      <td>C</td>\n",
       "      <td>4</td>\n",
       "    </tr>\n",
       "    <tr>\n",
       "      <th>3</th>\n",
       "      <td>D</td>\n",
       "      <td>3</td>\n",
       "    </tr>\n",
       "    <tr>\n",
       "      <th>4</th>\n",
       "      <td>E</td>\n",
       "      <td>2</td>\n",
       "    </tr>\n",
       "  </tbody>\n",
       "</table>\n",
       "</div>"
      ],
      "text/plain": [
       "  Values  Frequency/Support\n",
       "0      A                  3\n",
       "1      B                  3\n",
       "2      C                  4\n",
       "3      D                  3\n",
       "4      E                  2"
      ]
     },
     "execution_count": 4,
     "metadata": {},
     "output_type": "execute_result"
    }
   ],
   "source": [
    "cols1 = ['Values', 'Frequency/Support']\n",
    "data3 = [['A', 3], ['B',3], ['C',4], ['D',3], ['E',2]]\n",
    "value_support_table = pd.DataFrame(data3, columns = cols1)\n",
    "value_support_table"
   ]
  },
  {
   "cell_type": "code",
   "execution_count": 5,
   "id": "48c12624",
   "metadata": {},
   "outputs": [
    {
     "data": {
      "text/html": [
       "<div>\n",
       "<style scoped>\n",
       "    .dataframe tbody tr th:only-of-type {\n",
       "        vertical-align: middle;\n",
       "    }\n",
       "\n",
       "    .dataframe tbody tr th {\n",
       "        vertical-align: top;\n",
       "    }\n",
       "\n",
       "    .dataframe thead th {\n",
       "        text-align: right;\n",
       "    }\n",
       "</style>\n",
       "<table border=\"1\" class=\"dataframe\">\n",
       "  <thead>\n",
       "    <tr style=\"text-align: right;\">\n",
       "      <th></th>\n",
       "      <th>Rule</th>\n",
       "      <th>Support</th>\n",
       "      <th>Confidence</th>\n",
       "      <th>Lift</th>\n",
       "      <th>Supp_Num</th>\n",
       "      <th>Conf_Num</th>\n",
       "      <th>Lift_Num</th>\n",
       "    </tr>\n",
       "  </thead>\n",
       "  <tbody>\n",
       "    <tr>\n",
       "      <th>0</th>\n",
       "      <td>A==&gt;D</td>\n",
       "      <td>2/5</td>\n",
       "      <td>2/3</td>\n",
       "      <td>10/9</td>\n",
       "      <td>0.4</td>\n",
       "      <td>0.666667</td>\n",
       "      <td>1.111111</td>\n",
       "    </tr>\n",
       "    <tr>\n",
       "      <th>1</th>\n",
       "      <td>C==&gt;A</td>\n",
       "      <td>2/5</td>\n",
       "      <td>2/4</td>\n",
       "      <td>5/6</td>\n",
       "      <td>0.4</td>\n",
       "      <td>0.500000</td>\n",
       "      <td>0.833333</td>\n",
       "    </tr>\n",
       "    <tr>\n",
       "      <th>2</th>\n",
       "      <td>A==&gt;C</td>\n",
       "      <td>2/5</td>\n",
       "      <td>2/3</td>\n",
       "      <td>5/6</td>\n",
       "      <td>0.4</td>\n",
       "      <td>0.666667</td>\n",
       "      <td>0.833333</td>\n",
       "    </tr>\n",
       "    <tr>\n",
       "      <th>3</th>\n",
       "      <td>B&amp;C==&gt;A</td>\n",
       "      <td>1/5</td>\n",
       "      <td>1/3</td>\n",
       "      <td>5/9</td>\n",
       "      <td>0.2</td>\n",
       "      <td>0.333333</td>\n",
       "      <td>0.555556</td>\n",
       "    </tr>\n",
       "  </tbody>\n",
       "</table>\n",
       "</div>"
      ],
      "text/plain": [
       "      Rule Support Confidence  Lift  Supp_Num  Conf_Num  Lift_Num\n",
       "0    A==>D     2/5        2/3  10/9       0.4  0.666667  1.111111\n",
       "1    C==>A     2/5        2/4   5/6       0.4  0.500000  0.833333\n",
       "2    A==>C     2/5        2/3   5/6       0.4  0.666667  0.833333\n",
       "3  B&C==>A     1/5        1/3   5/9       0.2  0.333333  0.555556"
      ]
     },
     "execution_count": 5,
     "metadata": {},
     "output_type": "execute_result"
    }
   ],
   "source": [
    "cols = ['Rule', 'Support', 'Confidence', 'Lift', 'Supp_Num', 'Conf_Num', 'Lift_Num']\n",
    "data1 = [['A==>D', '2/5', '2/3', '10/9', (2/5), (2/3), (10/9)], ['C==>A', '2/5', '2/4', '5/6', (2/5), (2/4), (5/6)], ['A==>C', '2/5', '2/3', '5/6',  (2/5), (2/3), (5/6)], ['B&C==>A', '1/5', '1/3', '5/9',  (1/5), (1/3), (5/9)]] \n",
    "rules_explanation_table = pd.DataFrame(data1, columns = cols)\n",
    "rules_explanation_table"
   ]
  },
  {
   "cell_type": "markdown",
   "id": "d9e95977",
   "metadata": {},
   "source": [
    "### Row 0 Analysis\n",
    "\n",
    "-Row 0 Support ---> A & D appear together 2 times in all of our 5 transactions ---> 40% of the time\n",
    "\n",
    "-Row 0 Confidence ----> A & D appear together 2 times and A appears in 3 total transactions ---> 66% of the time\n",
    "\n",
    "-Row 0 Lift ----> (Rule Confidence/Benchmark Confidence)\n",
    "   - Benchmark Confidence = (Support of Consequent(A=3)/Total_Number_Transactions(5); 3/5 = .6\n",
    "   - Rule_Confidence(2/3 = 0.666667)/Benchmark_Confidence(.6)\n",
    "   - Lift = (0.666667)/(0.6) =====> 1.1111111(Lift_num)\n",
    "    \n",
    "### Thus....\n",
    "The rule of if A then D has a support of .4 which means in the COMBINATION of A and D appears in 40% of ALL of the transactions.\n",
    "\n",
    "The rule of if A then D has a confidence value of 0.666667 which means that the COMBINATION of A and D appears in 67% of the transactions in which A was purchased.\n",
    "\n",
    "The rule of if A then D has a lift value of 1.1111 which means that that there is a strong association for this rule. The lift value expresses that the presence of D give that A is present happens more often than would be expected. \n",
    "- (Confidence / (Expected/Benchmark Confidence)"
   ]
  },
  {
   "cell_type": "code",
   "execution_count": null,
   "id": "95283cb7",
   "metadata": {},
   "outputs": [],
   "source": []
  },
  {
   "cell_type": "code",
   "execution_count": null,
   "id": "263a83b2",
   "metadata": {},
   "outputs": [],
   "source": []
  },
  {
   "cell_type": "code",
   "execution_count": null,
   "id": "01abb93c",
   "metadata": {},
   "outputs": [],
   "source": []
  }
 ],
 "metadata": {
  "kernelspec": {
   "display_name": "Python 3 (ipykernel)",
   "language": "python",
   "name": "python3"
  },
  "language_info": {
   "codemirror_mode": {
    "name": "ipython",
    "version": 3
   },
   "file_extension": ".py",
   "mimetype": "text/x-python",
   "name": "python",
   "nbconvert_exporter": "python",
   "pygments_lexer": "ipython3",
   "version": "3.9.12"
  }
 },
 "nbformat": 4,
 "nbformat_minor": 5
}
